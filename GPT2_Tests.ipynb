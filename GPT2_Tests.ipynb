{
 "cells": [
  {
   "cell_type": "code",
   "execution_count": 1,
   "metadata": {},
   "outputs": [
    {
     "name": "stdout",
     "output_type": "stream",
     "text": [
      "Namespace(batch_size=-1, length=-1, nsamples=1, quiet=False, temperature=0.7, text='AI is the new electricity', top_k=10, unconditional=False)\n",
      "AI is the new electricity\n",
      "100%|█████████████████████████████████████████| 512/512 [00:27<00:00, 18.51it/s]\n",
      "======================================== SAMPLE 1 ========================================\n",
      " producer.\n",
      "\n",
      "The company is also looking at the possibility of expanding to other parts of India, such as Gujarat and Maharashtra.\n",
      "\n",
      "\"We will be working with other partners in order to bring our electricity to the world,\" said Rajendra Srivastava, chairman of the company.\n",
      "\n",
      "Srivastava said he had been in touch with the government to get the green light for the plant.\n",
      "\n",
      "\"We are working to get the green light for the plant and to get the green light for the electricity. The government is working to get the green light for all the stakeholders,\" Rajendra said.\n",
      "\n",
      "The project is the first of its kind in India and will see the creation of a power plant in the state of Karnataka.\n",
      "\n",
      "It is also the first of its kind in the world to produce power from natural gas, which can be exported in bulk to the rest of the world.<|endoftext|>The U.S. has long been known for its commitment to the rule of law, with the exception of some of its most notorious criminal offenses. But in recent years, we've seen a rise in the amount of law enforcement resources devoted to enforcing laws that are not only in place but are being enforced.\n",
      "\n",
      "As a result, the number of federal law enforcement resources that we have dedicated to enforcing federal law, including the U.S. Sentencing Guidelines, are growing faster than ever.\n",
      "\n",
      "In 2012, the number of federal law enforcement resources that we have dedicated to enforcing federal law increased by more than 2,000 percent. In 2015, the number of federal law enforcement resources that we have dedicated to enforcing federal law increased by more than 1,100 percent, as compared to the year prior.\n",
      "\n",
      "The U.S. Sentencing Guidelines are a set of guidelines that we use to guide the federal government in the enforcement of criminal laws. They were developed by the U.S. Sentencing Commission and are a standard that all states and localities follow in their criminal justice system.\n",
      "\n",
      "The Guidelines are used to ensure that federal law enforcement resources are available to the best of their ability, and that they will not be used to commit a crime. In order to comply with these guidelines, states or localities must comply with the guidelines and provide the appropriate resources.\n",
      "\n",
      "The Guidelines are available through the Sentencing Guidelines Program, which has been expanded to include the following:\n",
      "\n",
      "The U.S. Sentencing Guidelines are designed to help states and localities ensure that federal law enforcement resources\n"
     ]
    }
   ],
   "source": [
    "!python main.py --text \"AI is the new electricity\" --top_k=10"
   ]
  },
  {
   "cell_type": "code",
   "execution_count": 2,
   "metadata": {},
   "outputs": [
    {
     "name": "stdout",
     "output_type": "stream",
     "text": [
      "Namespace(batch_size=-1, length=-1, nsamples=1, quiet=False, temperature=0.7, text=\"Data science needs practice. Everything you learn, even though if the professor doesn't tell you, practice and try it. This is fundamental to really comprehend things and when you are working in the field you will be doing a lot of different practical stuff.\", top_k=20, unconditional=False)\n",
      "Data science needs practice. Everything you learn, even though if the professor doesn't tell you, practice and try it. This is fundamental to really comprehend things and when you are working in the field you will be doing a lot of different practical stuff.\n",
      "100%|█████████████████████████████████████████| 512/512 [00:28<00:00, 18.26it/s]\n",
      "======================================== SAMPLE 1 ========================================\n",
      "\n",
      "\n",
      "The best part of my work with the lab is that I can give you a better understanding of where I think science is going or what I think it means. For example, I think that a lot of people are not used to being able to go back and talk to a scientist who has been there for 20 years and has been in the field for that long and knows what he means. But I think that if you look at the whole field that's really interesting and fascinating and interesting to people.\n",
      "\n",
      "I know that I've heard a lot of things. I've heard a lot of interesting things. I've heard a lot of things that are very difficult to get into. I think that that's what my career is, that I am very open to being a scientist. I think that's what I want to learn. I think that's what I want to do. I think that's what I want to do.\n",
      "\n",
      "It's really hard to get a good grasp of where this is going. I think that's what I would like to get through.\n",
      "\n",
      "I think that's what that really is. My research and my passion for my field is a great place to be. I want to be an educator who is able to bring the science to the people that they see. I want to bring the science to the people that they see. I want to bring that to the people that they meet in the classroom.\n",
      "\n",
      "You've got to be able to get there on time. You've got to be able to get there in the right environment. You've got to be able to get there in the right time to get there.\n",
      "\n",
      "You've got to be able to go into the lab and talk to people. You've got to be able to go into the lab and talk to people.\n",
      "\n",
      "I've always had a great passion for science. I'm a big believer in the fact that science is not a magic trick. It's not. It's not really about the magic tricks. It's about the people that you see.\n",
      "\n",
      "In my life there's been a lot of things that I've done, I've been able to do a lot of things that I can't do. I've been able to do a lot that I can't do.\n",
      "\n",
      "I've been able to do a lot of things that I can't do.\n",
      "\n",
      "I've been able to do a lot that I can't do.\n",
      "\n",
      "I've been able to do a lot\n"
     ]
    }
   ],
   "source": [
    "!python main.py --text \"Data science needs practice. Everything you learn, even though if the professor doesn't tell you, practice and try it. This is fundamental to really comprehend things and when you are working in the field you will be doing a lot of different practical stuff.\" --top_k=20"
   ]
  },
  {
   "cell_type": "code",
   "execution_count": 3,
   "metadata": {},
   "outputs": [
    {
     "name": "stdout",
     "output_type": "stream",
     "text": [
      "Namespace(batch_size=-1, length=-1, nsamples=1, quiet=False, temperature=0.8, text=\"Data science needs practice. Everything you learn, even though if the professor doesn't tell you, practice and try it. This is fundamental to really comprehend things and when you are working in the field you will be doing a lot of different practical stuff.\", top_k=10, unconditional=False)\n",
      "Data science needs practice. Everything you learn, even though if the professor doesn't tell you, practice and try it. This is fundamental to really comprehend things and when you are working in the field you will be doing a lot of different practical stuff.\n",
      "100%|█████████████████████████████████████████| 512/512 [00:28<00:00, 18.10it/s]\n",
      "======================================== SAMPLE 1 ========================================\n",
      "\n",
      "\n",
      "What is your approach in the field of applied mathematics?\n",
      "\n",
      "I think we need a lot more than just mathematics. We need to understand the world in a lot more detail. The world we live in is not as simple or as abstract as it seems.\n",
      "\n",
      "How do you think you will learn to use your time and talents to improve?\n",
      "\n",
      "We are working hard to make it possible for people to do things that we do not have time for, and that are more difficult than we think.\n",
      "\n",
      "Do you think there is a need to change the way we think about mathematics?\n",
      "\n",
      "Yes, of course. The idea is that we don't have to be the same as other people, so we can learn to understand what we are trying to do.\n",
      "\n",
      "How do you think you can improve your mathematics knowledge?\n",
      "\n",
      "We are working on many new techniques. We are working on the use of mathematics in our lives. We are working on improving our understanding of the world, but it is the same for us, so we are also working on the way we understand things.\n",
      "\n",
      "What is the most difficult part of your job?\n",
      "\n",
      "There is something about how we work, and how we communicate with others. The hardest part is that we work in a way that is not just a mathematical way, but an actual mathematical way. This is what the work is all about.\n",
      "\n",
      "How do you think it will affect you?\n",
      "\n",
      "The hardest part is that we can't just do this. We have to be able to work as hard as we think, and we are working on that. If we are able to work as hard as we think, we will get better, and that is how I see it.\n",
      "\n",
      "What is your current position?\n",
      "\n",
      "I am a professor in the School of Business at University of California, Berkeley. My position is that I am working in the same way that I am working at a large university. I'm working in a way that is not just a math way. I am working in a way that allows me to be able to understand and work with others on a wide range of things.\n",
      "\n",
      "If you are interested in joining my group I would be glad to hear about your experience and what's your future as an educator.\n",
      "\n",
      "What is a \"new\" teacher?\n",
      "\n",
      "I am a professor from California, where I am the founder and president of the California Center for Teaching and Learning (CCLE) and the director for the\n"
     ]
    }
   ],
   "source": [
    "!python main.py --text \"Data science needs practice. Everything you learn, even though if the professor doesn't tell you, practice and try it. This is fundamental to really comprehend things and when you are working in the field you will be doing a lot of different practical stuff.\" --top_k=10 --temperature=0.8"
   ]
  },
  {
   "cell_type": "code",
   "execution_count": 4,
   "metadata": {},
   "outputs": [
    {
     "name": "stdout",
     "output_type": "stream",
     "text": [
      "Namespace(batch_size=-1, length=-1, nsamples=1, quiet=False, temperature=0.9, text='A data scientist is not someone who knows how to use Python or R, is the person that can improve and optimize how a business work by understanding the data they have and create models that explain the complexity of reality while creating solutions that can drive actions, specific actions related to the business.', top_k=40, unconditional=False)\n",
      "A data scientist is not someone who knows how to use Python or R, is the person that can improve and optimize how a business work by understanding the data they have and create models that explain the complexity of reality while creating solutions that can drive actions, specific actions related to the business.\n",
      "100%|█████████████████████████████████████████| 512/512 [00:27<00:00, 18.46it/s]\n",
      "======================================== SAMPLE 1 ========================================\n",
      "\n",
      "\n",
      "To learn more about data scientists and data science, and how to become better data scientists and how to get a business doing just that, please take a look at my article Understanding Data Scientists and Data Science: How to Become a Data Scientist and learn how to gain access to real data\n",
      "\n",
      "Image Credit: Shutterstock\n",
      "\n",
      "This post is part of the Opinion and Research team's series on data science with data scientists around the world. You can follow us on Twitter @DataScience_Team and for more on Data Science, check out our Facebook page. We also have a brand new content channel, The Data Science Business, which you can subscribe to here. We will be expanding our content and doing research to better serve you. Stay tuned!<|endoftext|>If you can live with all the things that can be a little confusing for a beginner, then all things that can be stressful for anyone who's never played video games can be downright infuriating for a newbie.\n",
      "\n",
      "If you know that you want to learn how to play a video game but your mind is already full of confusing game mechanics, then you should absolutely get your degree in Computer Science and possibly some programming.\n",
      "\n",
      "A good Computer Science major will allow you to get better at understanding what makes video games good, but the same can be said when it comes to the fundamentals of learning a game.\n",
      "\n",
      "For beginners, learning how to learn a game involves a lot of learning and practice, and most importantly, knowing your game's mechanics.\n",
      "\n",
      "This is important for most video game developers who are just starting out because there is no solid understanding of video games in general.\n",
      "\n",
      "However, if you are the type of person who has only used two video games in a specific period of time (e.g. when you first start a new game), then these fundamentals should help you understand the game better.\n",
      "\n",
      "Understanding the mechanics of a game should be in your top priority, but without going into specifics, there are some games out there you should know about just because it's not yet a good idea to play that game.\n",
      "\n",
      "Here are ten video games you should probably know:\n",
      "\n",
      "Star Wars Battlefront II \"Battlefront II\" (PC and PS2)\n",
      "\n",
      "Battlefront is a popular classic video game released in 1991, and was also one of the first games in the world to offer a \"game modes\". The original game was a massive hit for PC fans, and the sequel was the first real video game to take the genre by storm,\n"
     ]
    }
   ],
   "source": [
    "!python main.py --text \"A data scientist is not someone who knows how to use Python or R, is the person that can improve and optimize how a business work by understanding the data they have and create models that explain the complexity of reality while creating solutions that can drive actions, specific actions related to the business.\" --top_k=40 --temperature=0.9"
   ]
  },
  {
   "cell_type": "code",
   "execution_count": 6,
   "metadata": {},
   "outputs": [
    {
     "name": "stdout",
     "output_type": "stream",
     "text": [
      "Namespace(batch_size=-1, length=-1, nsamples=1, quiet=False, temperature=0.7, text='Programming in Python is awesome!!', top_k=40, unconditional=False)\n",
      "Programming in Python is awesome!!\n",
      "100%|█████████████████████████████████████████| 512/512 [00:26<00:00, 19.02it/s]\n",
      "======================================== SAMPLE 1 ========================================\n",
      " I have been working with the python library for a while now and I have found it very helpful. I think it is a bit of a stretch to call it a \"python\" library, but I think it should be called something other than \"Python\". As far as I am concerned, it's a very basic, simple library.\n",
      "\n",
      "I've also seen this in other languages:\n",
      "\n",
      ">>> f.c = lambda f: x > f.c.append(f)\n",
      "\n",
      "This one is called a \"python\" library, but is written in Python. So it can be used with any language you wish. So I call it a \"python\" library.\n",
      "\n",
      "In this case, it's a \"python\" library. It's probably a bit of a stretch to call it a \"python\" library, but I think it should be called something other than \"Python\". I think it should be called something other than \"Python\".\n",
      "\n",
      "I'm afraid that this is not a \"python\" library, but a \"module\". But it may be the case, but it's not, I think.\n",
      "\n",
      "It's very easy to change a file or program without changing the source code.\n",
      "\n",
      "I'm thinking that \"class\" and \"subclass\" are not really the same thing, and if that is the case, then I would think that we should still use \"class\" and \"subclass\" respectively.\n",
      "\n",
      "I've also seen this in other languages:\n",
      "\n",
      "class Class (object): ... def __init__ ( self , name ): self .name = name self .class = Class ( self .name) ... def __repr__ ( self ): return self .class. __repr__ def __return__ ( self , return_value ): return self .class. __return__ class Class ( self .name) def __reduce__ ( self , return ): return self .class. __reduce__ def __repr__ ( self ): return self .class. __repr__ def __return__ ( self , return_value ): return self .class. __return__ class Class ( self .name) def __remove__ ( self , return ): return self .class. __remove__ class Class ( self .name) def __call__ ( self ): return self .class. __call__ def __call__ ( self ): return self .class. __call__ class Class ( self .name) def __call__ ( self ): return self\n"
     ]
    }
   ],
   "source": [
    "!python main.py --text \"Programming in Python is awesome!!\""
   ]
  }
 ],
 "metadata": {
  "kernelspec": {
   "display_name": "Python 3",
   "language": "python",
   "name": "python3"
  },
  "language_info": {
   "codemirror_mode": {
    "name": "ipython",
    "version": 3
   },
   "file_extension": ".py",
   "mimetype": "text/x-python",
   "name": "python",
   "nbconvert_exporter": "python",
   "pygments_lexer": "ipython3",
   "version": "3.6.8"
  }
 },
 "nbformat": 4,
 "nbformat_minor": 2
}
