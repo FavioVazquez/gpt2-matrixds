{
 "cells": [
  {
   "cell_type": "code",
   "execution_count": 7,
   "metadata": {},
   "outputs": [
    {
     "name": "stdout",
     "output_type": "stream",
     "text": [
      "Namespace(batch_size=-1, length=-1, nsamples=1, quiet=False, temperature=0.7, text='AI is the new electricity', top_k=10, unconditional=False)\n",
      "AI is the new electricity\n",
      "100%|█████████████████████████████████████████| 512/512 [00:26<00:00, 19.01it/s]\n",
      "======================================== SAMPLE 1 ========================================\n",
      " regulator. It is expected to start selling electricity by the end of this year, and to be worth more than £500 million by 2020.\n",
      "\n",
      "\"We've had a lot of success in the past and we're doing better than we ever have before,\" said Mr Cameron.\n",
      "\n",
      "The Government has been criticised for not doing enough to tackle the problem of the electricity market being dominated by big utility companies.\n",
      "\n",
      "\"We've had many successes,\" said Mr Cameron. \"We have been successful in the past but we haven't been able to deliver as much as we should have.\"\n",
      "\n",
      "However, there is a new generation of electricity being generated at the end of the year that will be a major source of demand for the Government's electricity budget.\n",
      "\n",
      "The government will be looking at how to make electricity more cost-competitive with other sources of energy, including nuclear power and wind.\n",
      "\n",
      "It will also be looking at how to increase competition in the power supply and how to ensure that the power supply is as cost-competitive as possible.\n",
      "\n",
      "The Government says it hopes to get its electricity budget up to £500 million by the end of this year.\n",
      "\n",
      "\"The new power supply we are proposing will be much more cost-competitive than the existing supply,\" said Mr Cameron.\n",
      "\n",
      "\"We want to make electricity cheaper and more cost-competitive for everyone by 2020, and that is what we will do.\"<|endoftext|>The following article contains spoilers for the upcoming episode of \"The Big Bang Theory.\"\n",
      "\n",
      "The following is the synopsis of the episode:\n",
      "\n",
      "On the surface, it looks like the show is going into its second season, but a few years after its premiere, fans have finally come to their senses and learned that the show is going to continue on to a bigger stage than last season. It's a huge moment for the show, as it will be the first time the series has had a season finale before its season finale.\n",
      "\n",
      "\"The Big Bang Theory\" is a show about the rise of the Big Bang Theory, and a show that was supposed to be about finding the answers to the questions that were left unanswered in the first season. However, with the departure of the show's original creator, David Simon, and the cancellation of a season premiere, it's become apparent that it is now more of a mystery.\n",
      "\n",
      "While there is no word on how long the show will keep airing on YouTube, the show will be on hiatus for the time being.\n",
      "\n",
      "In the meantime, check\n"
     ]
    }
   ],
   "source": [
    "!python main.py --text \"AI is the new electricity\" --top_k=10"
   ]
  },
  {
   "cell_type": "code",
   "execution_count": 8,
   "metadata": {},
   "outputs": [
    {
     "name": "stdout",
     "output_type": "stream",
     "text": [
      "Namespace(batch_size=-1, length=-1, nsamples=1, quiet=False, temperature=0.7, text=\"Data science needs practice. Everything you learn, even though if the professor doesn't tell you, practice and try it. This is fundamental to really comprehend things and when you are working in the field you will be doing a lot of different practical stuff.\", top_k=20, unconditional=False)\n",
      "Data science needs practice. Everything you learn, even though if the professor doesn't tell you, practice and try it. This is fundamental to really comprehend things and when you are working in the field you will be doing a lot of different practical stuff.\n",
      "100%|█████████████████████████████████████████| 512/512 [00:27<00:00, 18.37it/s]\n",
      "======================================== SAMPLE 1 ========================================\n",
      "\n",
      "\n",
      "What do you think about the new book by David P. Harkness?\n",
      "\n",
      "I think the first book will be a good book, and I think its going to be great. I think its going to be a great book. I think there are too many people who are doing their job, especially in the field of physics, physics of the mind, which I think is pretty great. But I think it's going to be a great book.\n",
      "\n",
      "Have you got any other books you want to read?\n",
      "\n",
      "I've got a couple. My brother-in-law, who is an astrophysicist, has an excellent book. They're doing a book called The Cosmic Microwave Background (with a couple other people). They are doing an amazing book called Cosmic Microwave Background (with a couple other people). I think the first book will be a good book. I think it's going to be great. I think there are too many people doing their job, especially in the field of physics, physics of the mind, which I think is pretty great. But I think there are too many people who are doing their job, especially in the field of physics, physics of the mind, which I think is pretty great. But I think it's going to be a great book.\n",
      "\n",
      "When does your job change?\n",
      "\n",
      "Oh, it's a lot of people. It's a lot of people. The first book is going to be an amazing book. I think there are too many people doing their job, especially in the field of physics, physics of the mind, which I think is pretty great. But I think there are too many people who are doing their job, especially in the field of physics, physics of the mind, which I think is pretty great. And you're going to see so many people, I think, who are working in the field of physics, physics of the mind. And it's going to be great.\n",
      "\n",
      "What do you think will be the biggest challenge in the future of astrophysics?\n",
      "\n",
      "This is going to change everything. The big challenge is that it's going to be very difficult to understand what happens in the Universe. And it's going to be very difficult to understand what goes on in the Universe. The big challenges are that they are going to be very interesting. It's going to be very difficult to understand what happens in the Universe. And it's going to be very difficult to understand what happens in the Universe. And they\n"
     ]
    }
   ],
   "source": [
    "!python main.py --text \"Data science needs practice. Everything you learn, even though if the professor doesn't tell you, practice and try it. This is fundamental to really comprehend things and when you are working in the field you will be doing a lot of different practical stuff.\" --top_k=20"
   ]
  },
  {
   "cell_type": "code",
   "execution_count": 9,
   "metadata": {},
   "outputs": [
    {
     "name": "stdout",
     "output_type": "stream",
     "text": [
      "Namespace(batch_size=-1, length=-1, nsamples=1, quiet=False, temperature=0.8, text=\"Data science needs practice. Everything you learn, even though if the professor doesn't tell you, practice and try it. This is fundamental to really comprehend things and when you are working in the field you will be doing a lot of different practical stuff.\", top_k=10, unconditional=False)\n",
      "Data science needs practice. Everything you learn, even though if the professor doesn't tell you, practice and try it. This is fundamental to really comprehend things and when you are working in the field you will be doing a lot of different practical stuff.\n",
      "100%|█████████████████████████████████████████| 512/512 [00:26<00:00, 19.09it/s]\n",
      "======================================== SAMPLE 1 ========================================\n",
      "\n",
      "\n",
      "I want to make it clear to all of our readers that the best way to learn the science and the science of the universe is to go to the big data field. The big data fields have always been huge for me because the data science is the most fundamental aspect of my career. I've always been fascinated by data. I have been interested in the way data is structured, but there's a certain amount of data that is just not what I want to learn. I want to learn the data science.\n",
      "\n",
      "I've always wanted to be able to do a lot of data science. I was a graduate student at the University of California at Berkeley, but I've always been interested in the data science. I have always been interested in the way that data is structured.\n",
      "\n",
      "One of the things I love is the way that people can go through and understand data. They can see the difference between data and data science.\n",
      "\n",
      "I think it's important that we understand data. If you are a graduate student studying data science, you're going to be doing a lot of different things to learn the data science.\n",
      "\n",
      "There are a lot of things that are going to make the data science better. I think it's important for us to understand data. I think data science is going to be a much more complex field because of the complexity of the data that we're trying to understand.\n",
      "\n",
      "I think we are going to have to get more involved in data science. We are going to have to get more involved in the data science that is being done, and I think this is going to be a huge part of our future.\n",
      "\n",
      "I'm not saying that we are going to be a lot more interested in data science than we have been in the past. We are going to be more involved.\n",
      "\n",
      "The first step is to go out into the field of data science and start to understand how the data is structured.\n",
      "\n",
      "There are so many ways to look at the data. The way we look at it is that you have to look at the data in terms of the relationships that we have to the data. We have to look at the data in terms of relationships that we have to the data.\n",
      "\n",
      "We have to look at data in terms of the structures that we have to use to understand how it is structured. We have to look at the data in terms of the structures that we have to use to understand how it is structured.\n",
      "\n",
      "I think the way we look at the data\n"
     ]
    }
   ],
   "source": [
    "!python main.py --text \"Data science needs practice. Everything you learn, even though if the professor doesn't tell you, practice and try it. This is fundamental to really comprehend things and when you are working in the field you will be doing a lot of different practical stuff.\" --top_k=10 --temperature=0.8"
   ]
  },
  {
   "cell_type": "code",
   "execution_count": 10,
   "metadata": {},
   "outputs": [
    {
     "name": "stdout",
     "output_type": "stream",
     "text": [
      "Namespace(batch_size=-1, length=-1, nsamples=1, quiet=False, temperature=0.9, text='A data scientist is not someone who knows how to use Python or R, is the person that can improve and optimize how a business work by understanding the data they have and create models that explain the complexity of reality while creating solutions that can drive actions, specific actions related to the business.', top_k=40, unconditional=False)\n",
      "A data scientist is not someone who knows how to use Python or R, is the person that can improve and optimize how a business work by understanding the data they have and create models that explain the complexity of reality while creating solutions that can drive actions, specific actions related to the business.\n",
      "100%|█████████████████████████████████████████| 512/512 [00:27<00:00, 18.79it/s]\n",
      "======================================== SAMPLE 1 ========================================\n",
      "\n",
      "\n",
      "I'm going to talk about the various areas that I'll cover in a short video about how to work with various data, that are also used in the industry. I'll also share some of the common problems that are common in Python and R that the data scientist must deal with.\n",
      "\n",
      "My favorite areas is code, which is why I wrote about that in the first post. In Python code, there are many different ways of executing code. You can take different approaches to doing things like creating a user interface. In Python, you can use custom functions for different purposes, for example, by adding a new function or by creating a new data point. I will talk about code more extensively for this post which is why I am going to go through the different ways to create code in Python, R, and C.\n",
      "\n",
      "Creating code by hand\n",
      "\n",
      "If you are a data scientist, you're going to create code by hand from scratch. You've got a list of tools you can use, libraries you can use, files you can use and so forth. But, in order to create a code by hand, you need a list of data objects you can use, which I'll call objects. Objects are an important part of Python and the data scientist should have an understanding of what object data actually means. It's not some kind of object that you can add, you can use a tool like the R function or you can use an object to create an action. It is a list of data objects created using Python. So, in the list, I'm going to go ahead and put all in a single line and show you how to use it.\n",
      "\n",
      "object Name = __doc__ import __future__ class Name : public def __init__ ( self , name , name_sp = None ): self . namespace = name self . data = name self . action = name self . event = name self . label = name self . data = name def action ( self . data ): return name * name self . data = name if self . data: self . label = name self . data . write ()\n",
      "\n",
      "It's really hard to write code in Python because the object you have is a list of objects. I know how difficult it can be to create code in Python because the list of objects is not the one that you need. You need data objects to represent a single value and then you also need multiple objects to represent the same data. So, the Python programming language makes it extremely easy to create lists\n"
     ]
    }
   ],
   "source": [
    "!python main.py --text \"A data scientist is not someone who knows how to use Python or R, is the person that can improve and optimize how a business work by understanding the data they have and create models that explain the complexity of reality while creating solutions that can drive actions, specific actions related to the business.\" --top_k=40 --temperature=0.9"
   ]
  },
  {
   "cell_type": "code",
   "execution_count": 11,
   "metadata": {},
   "outputs": [
    {
     "name": "stdout",
     "output_type": "stream",
     "text": [
      "Namespace(batch_size=-1, length=-1, nsamples=1, quiet=False, temperature=0.7, text='Programming in Python is awesome!!', top_k=40, unconditional=False)\n",
      "Programming in Python is awesome!!\n",
      "100%|█████████████████████████████████████████| 512/512 [00:25<00:00, 19.70it/s]\n",
      "======================================== SAMPLE 1 ========================================\n",
      " My friends and I are so excited to help with the development of this new language!\n",
      "\n",
      "\n",
      "This is a free, open-source framework for Python for beginners to help developers understand how to create their own virtual machines.\n",
      "\n",
      "\n",
      "If you are familiar with Go or C#, you should understand how to build Python programs with Go programming languages. The basics are the same, but you learn more about how to use Go in your programming projects and how to run your programs.\n",
      "\n",
      "\n",
      "If you are an existing programmer and do not have Go experience, this is a good starting point for you to start learning more advanced programming languages.\n",
      "\n",
      "\n",
      "There is a small section in the Python documentation, called \"Building and building Go programs\".\n",
      "\n",
      "\n",
      "The book is a fantastic resource for beginners to get started with Go programming languages. It provides a great overview of the Go programming language and how to use it.\n",
      "\n",
      "\n",
      "The book is also a great place to learn more about the Go language. The book is a comprehensive and very thorough list of all the features and libraries that Go was developed for.\n",
      "\n",
      "\n",
      "If you want to learn more about the Go programming language, check out the book at http://www.pypi.com/go/pages/gos-programming-language.html.\n",
      "\n",
      "\n",
      "Getting Started with Go\n",
      "\n",
      "Go is a language that has been around for about 30 years. It is written in Go, but also is a programmable language that can be used to interact with objects, programmatically run programs or interact with other programs.\n",
      "\n",
      "\n",
      "There are 3 main types of Go programs. The most commonly used are:\n",
      "\n",
      "Programming Languages (PLLs)\n",
      "\n",
      "The standard programming language is C. This is the standard type of Go program. Programs are written in Go by adding new features to existing programs.\n",
      "\n",
      "You can call a program by simply calling its name.\n",
      "\n",
      "It is important to remember that you can call any program with a simple type. For example, you could write a program that takes a function and adds a parameter to it.\n",
      "\n",
      "\n",
      "The most commonly used programs for a C program are:\n",
      "\n",
      "Programming Tools (Go)\n",
      "\n",
      "The most popular Go programming tools are:\n",
      "\n",
      "Go Compiler (Go C++)\n",
      "\n",
      "This is the most popular Go language. It has support for Go programming languages like Go, C++, Java, C#, and Python.\n",
      "\n",
      "\n",
      "How to build Go programs\n",
      "\n",
      "You will need:\n",
      "\n",
      "A Go compiler.\n"
     ]
    }
   ],
   "source": [
    "!python main.py --text \"Programming in Python is awesome!!\""
   ]
  }
 ],
 "metadata": {
  "kernelspec": {
   "display_name": "Python 3",
   "language": "python",
   "name": "python3"
  },
  "language_info": {
   "codemirror_mode": {
    "name": "ipython",
    "version": 3
   },
   "file_extension": ".py",
   "mimetype": "text/x-python",
   "name": "python",
   "nbconvert_exporter": "python",
   "pygments_lexer": "ipython3",
   "version": "3.6.8"
  }
 },
 "nbformat": 4,
 "nbformat_minor": 2
}
